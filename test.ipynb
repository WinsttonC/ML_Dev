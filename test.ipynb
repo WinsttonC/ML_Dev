{
 "cells": [
  {
   "cell_type": "code",
   "execution_count": 1,
   "metadata": {},
   "outputs": [
    {
     "name": "stdout",
     "output_type": "stream",
     "text": [
      "14:18:34 Worker rq:worker:aa23265e3f1e4ce9ad9fe779547d0f4e started with PID 15752, version 1.15.1\n",
      "14:18:34 Subscribing to channel rq:pubsub:aa23265e3f1e4ce9ad9fe779547d0f4e\n",
      "14:18:34 *** Listening on default...\n",
      "14:18:34 default: main.make_prediction(KNeighborsClassifier(),    Gender  Age_at_diagnosis  Primary_Diagnosis  Race  IDH1  TP53  ATRX  ......) (5a32449c-895e-4463-9311-8ec57686cf2a)\n"
     ]
    },
    {
     "name": "stderr",
     "output_type": "stream",
     "text": [
      "14:18:34 Worker rq:worker:aa23265e3f1e4ce9ad9fe779547d0f4e: found an unhandled exception, quitting...\n",
      "Traceback (most recent call last):\n",
      "  File \"c:\\Users\\Winston\\AppData\\Local\\Programs\\Python\\Python311\\Lib\\site-packages\\rq\\worker.py\", line 432, in work\n",
      "    self.execute_job(job, queue)\n",
      "  File \"c:\\Users\\Winston\\AppData\\Local\\Programs\\Python\\Python311\\Lib\\site-packages\\rq\\worker.py\", line 1272, in execute_job\n",
      "    self.fork_work_horse(job, queue)\n",
      "  File \"c:\\Users\\Winston\\AppData\\Local\\Programs\\Python\\Python311\\Lib\\site-packages\\rq\\worker.py\", line 1170, in fork_work_horse\n",
      "    child_pid = os.fork()\n",
      "                ^^^^^^^\n",
      "AttributeError: module 'os' has no attribute 'fork'\n"
     ]
    },
    {
     "name": "stdout",
     "output_type": "stream",
     "text": [
      "14:18:34 Unsubscribing from channel rq:pubsub:aa23265e3f1e4ce9ad9fe779547d0f4e\n"
     ]
    }
   ],
   "source": [
    "from rq.job import Job\n",
    "\n",
    "from redis import Redis\n",
    "from rq import Worker, Queue\n",
    "\n",
    "from worker import queue\n"
   ]
  },
  {
   "cell_type": "code",
   "execution_count": 2,
   "metadata": {},
   "outputs": [
    {
     "ename": "ValueError",
     "evalue": "Functions from the __main__ module cannot be processed by workers",
     "output_type": "error",
     "traceback": [
      "\u001b[1;31m---------------------------------------------------------------------------\u001b[0m",
      "\u001b[1;31mValueError\u001b[0m                                Traceback (most recent call last)",
      "Cell \u001b[1;32mIn[2], line 4\u001b[0m\n\u001b[0;32m      2\u001b[0m     \u001b[39mreturn\u001b[39;00m a \u001b[39m+\u001b[39m b\n\u001b[0;32m      3\u001b[0m a, b \u001b[39m=\u001b[39m [\u001b[39m1\u001b[39m, \u001b[39m3\u001b[39m]\n\u001b[1;32m----> 4\u001b[0m job \u001b[39m=\u001b[39m queue\u001b[39m.\u001b[39;49menqueue(sum_, a, b)\n\u001b[0;32m      5\u001b[0m job_id \u001b[39m=\u001b[39m job\u001b[39m.\u001b[39mid\n",
      "File \u001b[1;32mc:\\Users\\Winston\\AppData\\Local\\Programs\\Python\\Python311\\Lib\\site-packages\\rq\\queue.py:970\u001b[0m, in \u001b[0;36mQueue.enqueue\u001b[1;34m(self, f, *args, **kwargs)\u001b[0m\n\u001b[0;32m    940\u001b[0m \u001b[39mdef\u001b[39;00m \u001b[39menqueue\u001b[39m(\u001b[39mself\u001b[39m, f: \u001b[39m'\u001b[39m\u001b[39mFunctionReferenceType\u001b[39m\u001b[39m'\u001b[39m, \u001b[39m*\u001b[39margs, \u001b[39m*\u001b[39m\u001b[39m*\u001b[39mkwargs) \u001b[39m-\u001b[39m\u001b[39m>\u001b[39m \u001b[39m'\u001b[39m\u001b[39mJob\u001b[39m\u001b[39m'\u001b[39m:\n\u001b[0;32m    941\u001b[0m \u001b[39m    \u001b[39m\u001b[39m\"\"\"Creates a job to represent the delayed function call and enqueues it.\u001b[39;00m\n\u001b[0;32m    942\u001b[0m \u001b[39m    Receives the same parameters accepted by the `enqueue_call` method.\u001b[39;00m\n\u001b[0;32m    943\u001b[0m \n\u001b[1;32m   (...)\u001b[0m\n\u001b[0;32m    950\u001b[0m \u001b[39m        job (Job): The created Job\u001b[39;00m\n\u001b[0;32m    951\u001b[0m \u001b[39m    \"\"\"\u001b[39;00m\n\u001b[0;32m    952\u001b[0m     (\n\u001b[0;32m    953\u001b[0m         f,\n\u001b[0;32m    954\u001b[0m         timeout,\n\u001b[0;32m    955\u001b[0m         description,\n\u001b[0;32m    956\u001b[0m         result_ttl,\n\u001b[0;32m    957\u001b[0m         ttl,\n\u001b[0;32m    958\u001b[0m         failure_ttl,\n\u001b[0;32m    959\u001b[0m         depends_on,\n\u001b[0;32m    960\u001b[0m         job_id,\n\u001b[0;32m    961\u001b[0m         at_front,\n\u001b[0;32m    962\u001b[0m         meta,\n\u001b[0;32m    963\u001b[0m         retry,\n\u001b[0;32m    964\u001b[0m         on_success,\n\u001b[0;32m    965\u001b[0m         on_failure,\n\u001b[0;32m    966\u001b[0m         on_stopped,\n\u001b[0;32m    967\u001b[0m         pipeline,\n\u001b[0;32m    968\u001b[0m         args,\n\u001b[0;32m    969\u001b[0m         kwargs,\n\u001b[1;32m--> 970\u001b[0m     ) \u001b[39m=\u001b[39m Queue\u001b[39m.\u001b[39;49mparse_args(f, \u001b[39m*\u001b[39;49margs, \u001b[39m*\u001b[39;49m\u001b[39m*\u001b[39;49mkwargs)\n\u001b[0;32m    972\u001b[0m     \u001b[39mreturn\u001b[39;00m \u001b[39mself\u001b[39m\u001b[39m.\u001b[39menqueue_call(\n\u001b[0;32m    973\u001b[0m         func\u001b[39m=\u001b[39mf,\n\u001b[0;32m    974\u001b[0m         args\u001b[39m=\u001b[39margs,\n\u001b[1;32m   (...)\u001b[0m\n\u001b[0;32m    989\u001b[0m         pipeline\u001b[39m=\u001b[39mpipeline,\n\u001b[0;32m    990\u001b[0m     )\n",
      "File \u001b[1;32mc:\\Users\\Winston\\AppData\\Local\\Programs\\Python\\Python311\\Lib\\site-packages\\rq\\queue.py:896\u001b[0m, in \u001b[0;36mQueue.parse_args\u001b[1;34m(cls, f, *args, **kwargs)\u001b[0m\n\u001b[0;32m    880\u001b[0m \u001b[39m\u001b[39m\u001b[39m\"\"\"\u001b[39;00m\n\u001b[0;32m    881\u001b[0m \u001b[39mParses arguments passed to `queue.enqueue()` and `queue.enqueue_at()`\u001b[39;00m\n\u001b[0;32m    882\u001b[0m \n\u001b[1;32m   (...)\u001b[0m\n\u001b[0;32m    893\u001b[0m \u001b[39m    kwargs (*kwargs): function kargs\u001b[39;00m\n\u001b[0;32m    894\u001b[0m \u001b[39m\"\"\"\u001b[39;00m\n\u001b[0;32m    895\u001b[0m \u001b[39mif\u001b[39;00m \u001b[39mnot\u001b[39;00m \u001b[39misinstance\u001b[39m(f, \u001b[39mstr\u001b[39m) \u001b[39mand\u001b[39;00m f\u001b[39m.\u001b[39m\u001b[39m__module__\u001b[39m \u001b[39m==\u001b[39m \u001b[39m'\u001b[39m\u001b[39m__main__\u001b[39m\u001b[39m'\u001b[39m:\n\u001b[1;32m--> 896\u001b[0m     \u001b[39mraise\u001b[39;00m \u001b[39mValueError\u001b[39;00m(\u001b[39m'\u001b[39m\u001b[39mFunctions from the __main__ module cannot be processed by workers\u001b[39m\u001b[39m'\u001b[39m)\n\u001b[0;32m    898\u001b[0m \u001b[39m# Detect explicit invocations, i.e. of the form:\u001b[39;00m\n\u001b[0;32m    899\u001b[0m \u001b[39m#     q.enqueue(foo, args=(1, 2), kwargs={'a': 1}, job_timeout=30)\u001b[39;00m\n\u001b[0;32m    900\u001b[0m timeout \u001b[39m=\u001b[39m kwargs\u001b[39m.\u001b[39mpop(\u001b[39m'\u001b[39m\u001b[39mjob_timeout\u001b[39m\u001b[39m'\u001b[39m, \u001b[39mNone\u001b[39;00m)\n",
      "\u001b[1;31mValueError\u001b[0m: Functions from the __main__ module cannot be processed by workers"
     ]
    }
   ],
   "source": [
    "def sum_(a, b):\n",
    "    return a + b\n",
    "a, b = [1, 3]\n",
    "job = queue.enqueue(sum_, a, b)\n",
    "job_id = job.id"
   ]
  },
  {
   "cell_type": "code",
   "execution_count": null,
   "metadata": {},
   "outputs": [],
   "source": [
    "job = Job.fetch(job_id, connection=redis_conn)\n",
    "if job.is_finished:\n",
    "    print(job.result)"
   ]
  }
 ],
 "metadata": {
  "kernelspec": {
   "display_name": "Python 3",
   "language": "python",
   "name": "python3"
  },
  "language_info": {
   "codemirror_mode": {
    "name": "ipython",
    "version": 3
   },
   "file_extension": ".py",
   "mimetype": "text/x-python",
   "name": "python",
   "nbconvert_exporter": "python",
   "pygments_lexer": "ipython3",
   "version": "3.11.3"
  },
  "orig_nbformat": 4
 },
 "nbformat": 4,
 "nbformat_minor": 2
}
